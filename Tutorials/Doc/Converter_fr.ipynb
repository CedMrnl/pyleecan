{
 "cells": [
  {
   "cell_type": "markdown",
   "id": "1c52274e-e36a-4642-8dca-a4b8b81a8333",
   "metadata": {},
   "source": [
    "# Converter"
   ]
  },
  {
   "cell_type": "markdown",
   "id": "84161717-2a78-4e85-bf32-54d500e1a304",
   "metadata": {},
   "source": [
    "## How to use a converter ?"
   ]
  },
  {
   "cell_type": "markdown",
   "id": "1656bb14-16c4-4a2f-934a-526a84bf02a1",
   "metadata": {},
   "source": [
    "This tutorial shows the way to call converter, and in a second part we explain this architecture. <br>\n",
    "So, with this converter you can convert **motor IPMSM, SPMSM, SCIM and WRSM**. <br>\n",
    "This converter is between Motor-CAD and Pyleecan but the architecture is create to be reuse if you want an other converter.<br>\n",
    "You can select your file Motor-CAD \".mot\" directly with GUI Pyleecan, the same way as loading a json file."
   ]
  },
  {
   "cell_type": "markdown",
   "id": "c95a4937-f37b-44a1-add0-9a50819417d7",
   "metadata": {},
   "source": [
    "This converter could propose a reversibility, but attention the reversibility is not perfect. In fact, we don't know the fonctionnement of Motor-CAD, that is why, we return a dictionnary with all equivalent parameter between Motor-CAD and Pyleecan present in a file.mot "
   ]
  },
  {
   "cell_type": "markdown",
   "id": "d93df52f-92dd-4cbb-90c4-8d4aff140d76",
   "metadata": {},
   "source": [
    "If you want to find equivalent, approximation or error you have a file Pyleecan.log. In this file you have big step to example equivalent between parallel_slot and slotW21. Or if you have an error or approximation in conversion. <br>"
   ]
  },
  {
   "cell_type": "markdown",
   "id": "59cd9a7a",
   "metadata": {},
   "source": [
    "Ex log : <br>\n",
    "2023-12-13 10:42:50-   INFO: Pyleecan version : 1.5.2 [Pyleecan] <br>\n",
    "2023-12-13 10:42:50-   INFO: Path file use to convert : /Users\\LAP17\\Documents/machine_MC_P/file_mot/WRSM_salient_pole.mot [Pyleecan]<br>\n",
    "2023-12-13 10:42:50-   INFO: Conversion file .mot into dict [Pyleecan]<br>\n",
    "2023-12-13 10:42:50-   INFO: Conversion dict into obj machine [Pyleecan]<br>\n",
    "2023-12-13 10:42:50-   INFO: Conversion SYNC into MachineWRSM [Pyleecan]<br>\n",
    "2023-12-13 10:42:50-   INFO: Conversion Parallel_Tooth into SlotW11 [Pyleecan]<br>\n",
    "2023-12-13 10:42:50-   INFO: Conversion AWG_Table into CondType12 [Pyleecan]<br>\n",
    "2023-12-13 10:42:50-   INFO: Conversion Sync_Salient_Pole into SlotW62 [Pyleecan]<br>\n",
    "2023-12-13 10:42:50-  DEBUG: No duct to convert at Rotor [Pyleecan]<br>\n",
    "2023-12-13 10:42:50-   INFO: Conversion AWG_Table into CondType12 [Pyleecan]<br>\n",
    "2023-12-13 10:42:50-   INFO: skew, not implemented [Pyleecan]<br>\n",
    "2023-12-13 10:42:50-   INFO: End of conversion, obj machine is create [Pyleecan]"
   ]
  },
  {
   "cell_type": "markdown",
   "id": "41fd6487-6618-4243-b67b-16f272c5769a",
   "metadata": {},
   "source": [
    "## Converter architecture"
   ]
  },
  {
   "cell_type": "markdown",
   "id": "01bc8018",
   "metadata": {},
   "source": [
    "### Dictionnary"
   ]
  },
  {
   "cell_type": "markdown",
   "id": "df7c5c53",
   "metadata": {},
   "source": [
    "La première étape  pour simplifier le convertisseur est la création d’un dictionnaire à partir du fichier .mot.\n",
    "Le fichier .mot est composé de différentes parties commençant par un titre entre crochet suivi d’une liste de valeur. Par exemple:\n",
    "```yaml\n",
    "[Dimensions]\n",
    "Stator_Lam_Dia=130\n",
    "Stator_Bore=80\n",
    "Airgap=1\n",
    "\n",
    "[Design_Options]\n",
    "BPM_Rotor=Surface_Radial\n",
    "Top_Bar=Round\n",
    "Bottom_Bar=Rectangular \n",
    "```\n",
    " \n",
    "On va donc reproduire cette architecture dans un dictionnaire, comprenant des dictionnaires comme ci-dessous.\n",
    "On a reproduit la même organisation que le fichier .mot, pour simplifier l'accès aux paramètres.\n",
    "```python\n",
    "other_dict = {\n",
    " \"[Dimensions]\" : { \n",
    "\"Stator_Lam_Dia\" : 130,\n",
    " \"Stator_Bore\" : 80,\n",
    " \"Airgap\" : 1,\n",
    " },\n",
    " \"[Design_Options]\" : {\n",
    " \"BPM_Rotor\" : \"Surface_Radial\",\n",
    " \"Top_Bar\" : \"Round\",\n",
    " \"Bottom_Bar\" : \"Rectangular\",\n",
    " },\n",
    "}\n",
    "```\n",
    "\n",
    "Nous avons également la gestion des unités. Lors de la création du dictionnaire équivalent au fichier .mot, un autre dictionnaire d’unité est également créé. Ce dictionnaire permettra lors de l’exécution des règles d’avoir la bonne conversion des unités. \n",
    "\n",
    "Ces deux dictionnaires permettront de généraliser le convertisseur à plusieurs logiciels. En effet, cette utilisation d’un dictionnaire pourra être reproduit peut importe le logiciel, le chemin écrit dans les règles seront simplement différent. \n",
    "\n",
    "Après avoir convertit le fichier en dictionnaire on peut débuter la conversion pour ce faire deux classes sont utilisées.\n"
   ]
  },
  {
   "cell_type": "markdown",
   "id": "0d437d4a-5430-4d28-92b8-dc0f92a51fad",
   "metadata": {},
   "source": [
    "### Class presentation"
   ]
  },
  {
   "cell_type": "markdown",
   "id": "66b00a78-9725-4aee-bf0b-e2142a5d3128",
   "metadata": {},
   "source": [
    "#### Class Converter"
   ]
  },
  {
   "cell_type": "markdown",
   "id": "88547c17-c4b6-4bf3-93e1-7d53e6423cf7",
   "metadata": {},
   "source": [
    "In this abstract class, we have variable use to convert, and different general methods. In fact, if you want to create an other converter you can reuse this methods."
   ]
  },
  {
   "cell_type": "markdown",
   "id": "72b70dff-1b0b-4851-91a2-380930c46d55",
   "metadata": {},
   "source": [
    "#### ConverterMC"
   ]
  },
  {
   "cell_type": "markdown",
   "id": "4e6fa29c-2b31-48c9-bd12-8ee04b901f83",
   "metadata": {},
   "source": [
    "Contrary to convert, this class has all methods specific at Motor-CAD. We have all rules, and methods convert, and particularity. And ConvertMC inherits from Convert."
   ]
  },
  {
   "cell_type": "markdown",
   "id": "c39106d4",
   "metadata": {},
   "source": [
    "![](Images/UML_convert.png)"
   ]
  },
  {
   "cell_type": "markdown",
   "id": "80a03b3d-b26e-4248-9a41-92aa5e54f1db",
   "metadata": {},
   "source": [
    "### Rule"
   ]
  },
  {
   "cell_type": "markdown",
   "id": "2e39f628",
   "metadata": {},
   "source": [
    "Pour adapter les règles aux différentes situations il existe 3 types de règle, les règles Simple, Equation et Complexe chacune régit par une classe.\n",
    "Pour commencer nous avons une classe abstraite Rule, qui va permettre grâce à ces méthodes de sélectionner ou ajouter la valeur dans la machine et de la même manière dans le dictionnaire.\n",
    "\n",
    "Pour chacune des classes RuleSimple, RuleComplex et RuleEquaion des méthodes convert_to_P et convert_to_other sont utilisées pour convertir les paramètres suivant le sens de conversion. De plus la classes RuleEquation contient une méthode solve permettant de résoudre l’équation définit dans la règle. De même pour la classe RuleComplex qui a une méthode _set_fct_name qui permet d’appeler la fonction contenant la règle.\n"
   ]
  },
  {
   "cell_type": "markdown",
   "id": "82d856f0-35fa-4aef-9b40-903c2009a784",
   "metadata": {},
   "source": [
    "#### Rule\n",
    "In this abstract class, you can find methods to select or set value in dict or in obj machine."
   ]
  },
  {
   "cell_type": "markdown",
   "id": "53a9eef4-5cc0-418d-9712-be5e2ca9e577",
   "metadata": {},
   "source": [
    "#### RuleComplex"
   ]
  },
  {
   "cell_type": "markdown",
   "id": "62eb613d-ac3f-4a9e-941a-ede651bb5793",
   "metadata": {},
   "source": [
    "Enfin les règles Complex qui traitent les autres situations dans des fonctions spécifiques. Ces règles permettent l’appel de méthodes présentes dans Pyleecan, ce qui va simplifier la conversion. L’objectif était de limiter au maximum l’utilisation de ces règles afin de faciliter la compréhension   et aussi de réduire le temps de développement."
   ]
  },
  {
   "cell_type": "markdown",
   "id": "eb9833c6-9d15-4265-87f1-4f74a2da4764",
   "metadata": {},
   "source": [
    "#### RuleSimple"
   ]
  },
  {
   "cell_type": "markdown",
   "id": "7230e2c5-a5b0-4e01-979b-07df69b93948",
   "metadata": {},
   "source": [
    "Nous avons donc les règles simples qui sont présentes pour effectuer une simple conversion entre deux paramètres avec un facteur entre les deux, ainsi que la conversion de l’unité.  Par exemple, Motor-Cad paramétrise suivant les diamètres alors que Pyleecan utilise généralement les rayons. On aura donc un facteur deux pour toutes les conversions entre le diamètre et le rayon."
   ]
  },
  {
   "cell_type": "markdown",
   "id": "638354a5-d278-4d6a-bd6d-8d3640a9c4a5",
   "metadata": {},
   "source": [
    "#### RuleEquation"
   ]
  },
  {
   "cell_type": "markdown",
   "id": "668e2bd8-11e2-4778-9146-3ebd485704cc",
   "metadata": {},
   "source": [
    "Ensuite les règles Equation qui permettent de passer d'un paramètre à un autre mais en impliquant d'autres paramètres, avec la conversion de l’unité également. (ex : y = a+2b -3x). Pour résoudre plus facilement l’équation on doit respecter la règle suivante, le paramètre Motor-CAD recherché doit être « y » et le paramètre Pyleecan doit être « x ». Concernant les paramètres autour a, b, c… ces paramètres doivent être déjà définis précédemment . Par exemple, le rayon du rotor (x) correspond à un paramètre dans Pyleecan. Alors qu’il peut être retrouvé sur Motor-Cad avec le diamètre du stator (y) et la dimension de l’entrefer (a). On a donc l’équation suivante « y/2 – a = x »."
   ]
  },
  {
   "cell_type": "markdown",
   "id": "6f97b6a8",
   "metadata": {},
   "source": [
    "![](Images/UML_rules.png)"
   ]
  },
  {
   "cell_type": "markdown",
   "id": "e22f129f-ba9d-46c9-a260-eeeccbd8ada9",
   "metadata": {},
   "source": [
    "### Architecture presentation"
   ]
  },
  {
   "cell_type": "markdown",
   "id": "77fd37a3",
   "metadata": {},
   "source": [
    "L'architecture du convertisseur va suivre l'interface Pyleecan. En effet, l'interface de pyleecan est composée de différente étape qui permet de définir la machine.\n",
    "\n",
    "![](Images/Selection_machine.png)"
   ]
  },
  {
   "cell_type": "markdown",
   "id": "76588684",
   "metadata": {},
   "source": [
    "Par exemple pour définir la Toyota_Prius, on définit : <br>\n",
    "    - Machine type  <br>\n",
    "    - Machine Dimensions<br>\n",
    "    - Stator Slot<br>\n",
    "    - ...<br>\n",
    "\n",
    "Dans chacune de ces étapes, nous définissons les paramètres. Dans l'exemple ci-dessous, pour la Machine Dimensions, on va définir la longueur du stator, du rotor... \n",
    "\n",
    "![](Images/Machine_dimension.png)"
   ]
  },
  {
   "cell_type": "markdown",
   "id": "6e0d27c5",
   "metadata": {},
   "source": [
    "Commençons par sélectionner le type de machine.\n",
    "\n",
    "En fonction du type de machine, nous allons appeler d'autres sélections. Ces méthodes sont équivalentes aux grandes étapes de définition d’un moteur électrique. Le schéma suivant illustre l'enchainement des sélections. Par exemple, si l’on souhaite convertir un moteur IPMSM, le convertisseur va aller chercher le type de moteur. Une fois qu’il a trouvé que c’est une IPMSM, il va appeler les étapes suivantes, comme aller sélectionner le type d’encoche. \n",
    "\n",
    "Pour faciliter la compréhension, l'ensemble des méthodes effectuant la sélection commence par \"select\". Elles sont toutes dans la classe Convert. L'objectif de ces méthodes est d'appeler les bonnes règles en fonction des besoins et d'orienter vers les autres fichiers de sélection.\n",
    "\n",
    "Les sélections dans ces méthodes sont effectuées à partir d'objet machine de Pyleecan, pour garder la possibilité de réutiliser ces méthodes. \n",
    "Cependant, pour avoir toujours cette sélection possible, des méthodes spécifiques au convertisseur (présent dans la classe convertMC) sont nécessaires.\n",
    "\n",
    "Ces méthodes commençant par \"convert\" vont permettre de définir la machine en lui ajoutant ces grandes étapes, on a par exemple le type de machine, le type de slot, le type de notch...\n",
    "\n",
    "![](Images/schematics_architecture_converter.png)"
   ]
  },
  {
   "cell_type": "markdown",
   "id": "7d6e6ad0",
   "metadata": {},
   "source": [
    "Nous avons donc en fonction de l’élément choisi d'autres sélections (d'autres étapes) comme ci-dessus : \n",
    "L'objectif de cette sélection est d’ajouter les bonnes règles. Pour cela, il faut soit être très précis (connaissance du type de slot), soit être sûr que la règle puisse être généralisée (par exemple les dimensions pour toutes les SCIM).\n",
    "\n",
    "Pour résumer, les fichiers commençant par « select » permettent d’appeler les bonnes règles en fonction de la machine Pyleecan. Pour pouvoir être réversibles et communs à tous les convertisseurs, ils appellent d’autres méthodes commençant par « convert » qui vont définir la machine avec le bon slot.\n",
    "\n",
    "Nous arrivons donc au fonctionnement des règles, durant ce parcours les règles sont ajoutées dans un ordre précis dans une liste nommée rules_list.\n",
    "A la fin de la sélection initiée par la méthode selection_machine_rules nous nous retrouvons avec une liste de règles et une machine possédant les bonnes classes. Par exemple, la machine sera une IPMSM, avec un slotW21 au stator et un HoleM50 au rotor. On a la bonne définition des éléments dans la machine, mais les paramètres comme les dimensions ne sont pas définis.\n",
    "\n",
    "La dernière étape est de convertir l'ensemble des règles présent dans une liste et les ajouter dans l'objet machine. Cette conversion utilise le polymorphisme, ce qui permet l’appel de la bonne conversion suivant la classe des règles.\n",
    "\n",
    "On a donc finalement l'ensemble des règles qui sont traitées, et implémentées dans l'objet machine. Ainsi la conversion sera terminée avec l'objet complètement défini.\n",
    "\n",
    "Voici la structure simplifiée du convertisseur dans le sens de conversion d’un fichier MOTOR-CAD à une machine Pyleecan. \n",
    "\n",
    "![](Images/Architecture_Converter.png)"
   ]
  },
  {
   "cell_type": "markdown",
   "id": "c78a1314",
   "metadata": {},
   "source": [
    "### Reversibility"
   ]
  },
  {
   "cell_type": "markdown",
   "id": "293680ca",
   "metadata": {},
   "source": [
    "Comme on a un objet machine, on peut le sauvegarder en .json, ou load le .json en machine.\n",
    "Car le convertisseur peut effectuer les 2 sens de conversion. Et le fonctionnement du convertisseur ne change pas en fonction du sens.\n",
    "\n",
    "On arrive donc à une réversibilité partiel, mais qui peut être facilement complété.\n",
    "\n",
    "![](Images/convert_mot_to_dict.png)"
   ]
  },
  {
   "cell_type": "markdown",
   "id": "79389fd6",
   "metadata": {},
   "source": [
    "Voici ci-dessous l'oragnisation des fichiers du convertisseur dans les différentes classes :\n",
    "![](Images/structure_converter.png)"
   ]
  }
 ],
 "metadata": {
  "kernelspec": {
   "display_name": "Python 3 (ipykernel)",
   "language": "python",
   "name": "python3"
  },
  "language_info": {
   "codemirror_mode": {
    "name": "ipython",
    "version": 3
   },
   "file_extension": ".py",
   "mimetype": "text/x-python",
   "name": "python",
   "nbconvert_exporter": "python",
   "pygments_lexer": "ipython3",
   "version": "3.8.10"
  }
 },
 "nbformat": 4,
 "nbformat_minor": 5
}
