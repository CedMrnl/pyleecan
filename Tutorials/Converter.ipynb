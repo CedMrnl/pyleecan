{
 "cells": [
  {
   "cell_type": "markdown",
   "id": "a78cb7c8-f3cf-4a7a-9ff5-b45c1741614c",
   "metadata": {},
   "source": [
    "# Version information"
   ]
  },
  {
   "cell_type": "code",
   "execution_count": 3,
   "id": "1b307045-e61d-4a1d-be06-4c9f36ff4b52",
   "metadata": {},
   "outputs": [
    {
     "name": "stdout",
     "output_type": "stream",
     "text": [
      "Running date:  November 21, 2023\n"
     ]
    },
    {
     "ename": "ModuleNotFoundError",
     "evalue": "No module named 'pyleecan'",
     "output_type": "error",
     "traceback": [
      "\u001b[1;31m---------------------------------------------------------------------------\u001b[0m",
      "\u001b[1;31mModuleNotFoundError\u001b[0m                       Traceback (most recent call last)",
      "\u001b[1;32mc:\\Users\\LAP17\\Documents\\pyleecan\\Tutorials\\Converter.ipynb Cell 2\u001b[0m line \u001b[0;36m5\n\u001b[0;32m      <a href='vscode-notebook-cell:/c%3A/Users/LAP17/Documents/pyleecan/Tutorials/Converter.ipynb#W1sZmlsZQ%3D%3D?line=2'>3</a>\u001b[0m \u001b[39mfrom\u001b[39;00m \u001b[39mdatetime\u001b[39;00m \u001b[39mimport\u001b[39;00m date\n\u001b[0;32m      <a href='vscode-notebook-cell:/c%3A/Users/LAP17/Documents/pyleecan/Tutorials/Converter.ipynb#W1sZmlsZQ%3D%3D?line=3'>4</a>\u001b[0m \u001b[39mprint\u001b[39m(\u001b[39m\"\u001b[39m\u001b[39mRunning date: \u001b[39m\u001b[39m\"\u001b[39m, date\u001b[39m.\u001b[39mtoday()\u001b[39m.\u001b[39mstrftime(\u001b[39m\"\u001b[39m\u001b[39m%\u001b[39m\u001b[39mB \u001b[39m\u001b[39m%d\u001b[39;00m\u001b[39m, \u001b[39m\u001b[39m%\u001b[39m\u001b[39mY\u001b[39m\u001b[39m\"\u001b[39m))\n\u001b[1;32m----> <a href='vscode-notebook-cell:/c%3A/Users/LAP17/Documents/pyleecan/Tutorials/Converter.ipynb#W1sZmlsZQ%3D%3D?line=4'>5</a>\u001b[0m \u001b[39mimport\u001b[39;00m \u001b[39mpyleecan\u001b[39;00m\n\u001b[0;32m      <a href='vscode-notebook-cell:/c%3A/Users/LAP17/Documents/pyleecan/Tutorials/Converter.ipynb#W1sZmlsZQ%3D%3D?line=5'>6</a>\u001b[0m \u001b[39mprint\u001b[39m(\u001b[39m\"\u001b[39m\u001b[39mPyleecan version: \u001b[39m\u001b[39m\"\u001b[39m \u001b[39m+\u001b[39m pyleecan\u001b[39m.\u001b[39m__version__)\n\u001b[0;32m      <a href='vscode-notebook-cell:/c%3A/Users/LAP17/Documents/pyleecan/Tutorials/Converter.ipynb#W1sZmlsZQ%3D%3D?line=6'>7</a>\u001b[0m \u001b[39mimport\u001b[39;00m \u001b[39mSciDataTool\u001b[39;00m\n",
      "File \u001b[1;32mC:\\Python38\\Lib\\site-packages\\shiboken2\\files.dir\\shibokensupport\\__feature__.py:142\u001b[0m, in \u001b[0;36m_import\u001b[1;34m(name, *args, **kwargs)\u001b[0m\n\u001b[0;32m    140\u001b[0m     flag \u001b[39m=\u001b[39m \u001b[39m-\u001b[39m\u001b[39m1\u001b[39m\n\u001b[0;32m    141\u001b[0m pyside_feature_dict[importing_module] \u001b[39m=\u001b[39m flag\n\u001b[1;32m--> 142\u001b[0m \u001b[39mreturn\u001b[39;00m original_import(name, \u001b[39m*\u001b[39;49margs, \u001b[39m*\u001b[39;49m\u001b[39m*\u001b[39;49mkwargs)\n",
      "\u001b[1;31mModuleNotFoundError\u001b[0m: No module named 'pyleecan'"
     ]
    }
   ],
   "source": [
    "%matplotlib notebook\n",
    "from PySide2.QtWidgets import *\n",
    "from datetime import date\n",
    "print(\"Running date: \", date.today().strftime(\"%B %d, %Y\"))\n",
    "import pyleecan\n",
    "print(\"Pyleecan version: \" + pyleecan.__version__)\n",
    "import SciDataTool\n",
    "print(\"SciDataTool version: \" + SciDataTool.__version__)"
   ]
  },
  {
   "cell_type": "markdown",
   "id": "1c52274e-e36a-4642-8dca-a4b8b81a8333",
   "metadata": {},
   "source": [
    "# Converter"
   ]
  },
  {
   "cell_type": "markdown",
   "id": "84161717-2a78-4e85-bf32-54d500e1a304",
   "metadata": {},
   "source": [
    "## How to use a converter ?"
   ]
  },
  {
   "cell_type": "markdown",
   "id": "1656bb14-16c4-4a2f-934a-526a84bf02a1",
   "metadata": {},
   "source": [
    "This tutorial shows the way to call converter, and in a second part we explain this architecture. <br>\n",
    "So, with this converter you can convert **motor IPMSM and SPMSM** for the moment with all slot, hole, notch, duct present in pyleecan. Just the **geometrical conversion** is present. <br>\n",
    "This converter is between Motor-CAD and Pyleecan but the architecture is create to be reuse if you want an other converter.<br>\n",
    "below is the code to call the converter :"
   ]
  },
  {
   "cell_type": "code",
   "execution_count": null,
   "id": "40f984cb-0446-436a-9adf-4f991f8108b3",
   "metadata": {},
   "outputs": [
    {
     "ename": "NameError",
     "evalue": "name 'ConvertMC' is not defined",
     "output_type": "error",
     "traceback": [
      "\u001b[1;31m---------------------------------------------------------------------------\u001b[0m",
      "\u001b[1;31mNameError\u001b[0m                                 Traceback (most recent call last)",
      "Cell \u001b[1;32mIn[2], line 5\u001b[0m\n\u001b[0;32m      2\u001b[0m path \u001b[38;5;241m=\u001b[39m \u001b[38;5;124m\"\u001b[39m\u001b[38;5;124m/Users\u001b[39m\u001b[38;5;124m\\\u001b[39m\u001b[38;5;124mLAP17\u001b[39m\u001b[38;5;124m\\\u001b[39m\u001b[38;5;124mDocuments/Documentation motor-CAD/fichier.mot/various_mot_files/VF_Manatee_Hairpin_winding.mot\u001b[39m\u001b[38;5;124m\"\u001b[39m\n\u001b[0;32m      4\u001b[0m \u001b[38;5;66;03m# select class of converter\u001b[39;00m\n\u001b[1;32m----> 5\u001b[0m conv \u001b[38;5;241m=\u001b[39m \u001b[43mConvertMC\u001b[49m()\n\u001b[0;32m      7\u001b[0m \u001b[38;5;66;03m# select the direction of conversion\u001b[39;00m\n\u001b[0;32m      8\u001b[0m \n\u001b[0;32m      9\u001b[0m \u001b[38;5;66;03m# to convert a file .mot in object machine  \u001b[39;00m\n\u001b[0;32m     10\u001b[0m machine \u001b[38;5;241m=\u001b[39m conv\u001b[38;5;241m.\u001b[39mconvert_to_P(path)\n",
      "\u001b[1;31mNameError\u001b[0m: name 'ConvertMC' is not defined"
     ]
    }
   ],
   "source": [
    "from pyleecan.Classes.ConvertMC import ConvertMC\n",
    "# select your file.mot\n",
    "path = \"/Users\\LAP17\\Documents/Documentation motor-CAD/fichier.mot/various_mot_files/VF_Manatee_Hairpin_winding.mot\"\n",
    "\n",
    "# select class of converter\n",
    "conv = ConvertMC()\n",
    "\n",
    "# select the direction of conversion\n",
    "\n",
    "# to convert a file .mot in object machine  \n",
    "machine = conv.convert_to_P(path)\n",
    "\n",
    "# to convert a object machine in dict with setting use in Motor_cad \n",
    "other_dict = conv.convert_to_other(machine)"
   ]
  },
  {
   "cell_type": "markdown",
   "id": "c95a4937-f37b-44a1-add0-9a50819417d7",
   "metadata": {},
   "source": [
    "This converter could propose a reversibility, but attention the reversibility is not perfect. In fact, we don't know the fonctionnement of Motor-CAD, that is why, we return a dictionnary with all equivalent parameter between Motor-CAD and Pyleecan present in a file.mot "
   ]
  },
  {
   "cell_type": "markdown",
   "id": "d93df52f-92dd-4cbb-90c4-8d4aff140d76",
   "metadata": {},
   "source": [
    "If you want to find equivalent, approximation or error you have a file Pyleecan.log. In this file you have big step to example equivalent between parallel_slot and slotW21. Or if you have an error or approximation in conversion. <br>"
   ]
  },
  {
   "cell_type": "code",
   "execution_count": null,
   "id": "631c82e7-3321-4608-bd83-372886f496c1",
   "metadata": {},
   "outputs": [],
   "source": [
    "# cleaning log file\n",
    "f = open(\"/Users\\LAP17\\AppData\\Roaming\\pyleecan/Pyleecan.log\", \"w\")\n",
    "f.close()\n"
   ]
  },
  {
   "cell_type": "markdown",
   "id": "41fd6487-6618-4243-b67b-16f272c5769a",
   "metadata": {},
   "source": [
    "## Converter architecture"
   ]
  },
  {
   "cell_type": "markdown",
   "id": "0d437d4a-5430-4d28-92b8-dc0f92a51fad",
   "metadata": {},
   "source": [
    "### Class presentation"
   ]
  },
  {
   "cell_type": "markdown",
   "id": "66b00a78-9725-4aee-bf0b-e2142a5d3128",
   "metadata": {},
   "source": [
    "#### Class Converter"
   ]
  },
  {
   "cell_type": "markdown",
   "id": "88547c17-c4b6-4bf3-93e1-7d53e6423cf7",
   "metadata": {},
   "source": [
    "In this abstract class, we have variable use to convert, and different general methods. In fact, if you want to create an other converter you can reuse this methods."
   ]
  },
  {
   "cell_type": "markdown",
   "id": "72b70dff-1b0b-4851-91a2-380930c46d55",
   "metadata": {},
   "source": [
    "#### ConverterMC"
   ]
  },
  {
   "cell_type": "markdown",
   "id": "4e6fa29c-2b31-48c9-bd12-8ee04b901f83",
   "metadata": {},
   "source": [
    "Contrary to convert, this class has all methods specific at Motor-CAD. We have all rules, and methods convert, and particularity. And ConvertMC inherits from Convert."
   ]
  },
  {
   "cell_type": "markdown",
   "id": "80a03b3d-b26e-4248-9a41-92aa5e54f1db",
   "metadata": {},
   "source": [
    "#### Rule"
   ]
  },
  {
   "cell_type": "markdown",
   "id": "82d856f0-35fa-4aef-9b40-903c2009a784",
   "metadata": {},
   "source": [
    "In this abstract class, you can find methods to select or set value in dict or in obj machine."
   ]
  },
  {
   "cell_type": "markdown",
   "id": "53a9eef4-5cc0-418d-9712-be5e2ca9e577",
   "metadata": {},
   "source": [
    "#### RuleComplex"
   ]
  },
  {
   "cell_type": "markdown",
   "id": "62eb613d-ac3f-4a9e-941a-ede651bb5793",
   "metadata": {},
   "source": [
    "RuleComplex inherits from Rule, this class works with functions who handles special cases "
   ]
  },
  {
   "cell_type": "markdown",
   "id": "eb9833c6-9d15-4265-87f1-4f74a2da4764",
   "metadata": {},
   "source": [
    "#### RuleSimple"
   ]
  },
  {
   "cell_type": "markdown",
   "id": "7230e2c5-a5b0-4e01-979b-07df69b93948",
   "metadata": {},
   "source": [
    "RuleSimple inherits from Rule, this class is use to equivalent parameter with just a multiplicator between param motor-cad and Pyleecan. "
   ]
  },
  {
   "cell_type": "markdown",
   "id": "638354a5-d278-4d6a-bd6d-8d3640a9c4a5",
   "metadata": {},
   "source": [
    "#### RuleEquation"
   ]
  },
  {
   "cell_type": "markdown",
   "id": "668e2bd8-11e2-4778-9146-3ebd485704cc",
   "metadata": {},
   "source": [
    "RuleEquation inherits from Rule, this class is use if equivalent between parameter motor-cad and Pyleecan is more difficult but can be solve with an equation. And if equation is complex, we can choose a RuleComplex."
   ]
  },
  {
   "cell_type": "markdown",
   "id": "e22f129f-ba9d-46c9-a260-eeeccbd8ada9",
   "metadata": {},
   "source": [
    "### Architecture presentation"
   ]
  },
  {
   "cell_type": "markdown",
   "id": "1ca7f277-7702-4b8a-893b-0cd5d6c4c139",
   "metadata": {},
   "source": [
    "L'architecture ce décompose de la manière suivante, on suit l'interface Pyleecan, dans une première partie nous allons sélectionner le type de machine. Puis en fonction de la machine nous allons appeler d'autre selection. L'ensemble des fichiers de selection commence par \"selection\". Mais pour rester le plus générique possible et avoir le maximum de fichier selection dans la class convert, nous devons passer par des fichiers commençant par convert, ces fichiers appeler suivant le sens convert_...__P ou convert_..._MC sont utiliser pour implémenter un type de machine, un slot, dans soit l'objet machine ou dans le dict. L'objectif est après cette étape dans les deux sens, la machine possède un slot par exemple. Ce qui permet de garder les fichiers selection dans convert. Nous avons donc en fonction de la selection d'autre selection (d'autre step) jusqu'à arriver à quelque chose d'assez générique pour implémenter des règles ou assez précis, exemple quand on connait le type de machine, on peut appeler les règles machine dimensions, ou lorsqu'on connait le type de slot, on peut appeler la règle de conversion du slot. Ensute nous arrivons donc aux règles, durant ce parcour les règle correspondante sont ajouté dans un ordre précis dans une liste rules_list. A la fin de la sélection inititier par la fonction selection_machine_rules nous nous retrouvons avec une liste de règle. A ce moment suivant le sens de conversion, nous allons appeler convert_to_P ou convert_to_other, donc pour convertir l'ensemble des règles et les ajouter dans l'objet machine ou le dictionnaire. Cette conersion utilise le polymorphisme car en effet, il existe 3 type de règle :\n",
    "règle Simple qui permet de passer d'un paramètre à un autre avec seulement un multiplicateur \n",
    "règle Equation qui permet de passer d'un paramètre à un autre mais en impliquant d'autre paramètre ou des conversion complex\n",
    "règle Complexe qui traite les autres situations, ces situations sont traiter dans dans des fonctions spécifique.\n",
    "\n",
    "On a donc finalement l'ensemble des règles qui sont traité, et implémenté dans l'objet machine ou dans un dictionnaire et la conversion est terminée."
   ]
  },
  {
   "cell_type": "markdown",
   "id": "ee1943c1-4230-46d6-a4fb-db31675b135e",
   "metadata": {},
   "source": [
    "The architecture follow the Pyleecan interface, in a first part we will select the type of machine. Then depending on the machine we will call another selection. All selection files start with \"selection\". But to remain as generic as possible and have the maximum number of file selections in the convert class, we must go through files starting with convert, these files call according to the meaning convert_...__P or convert_..._MC are used to implement a machine type, a slot, in either the machine object or in the dict. The objective is after this step in both directions, the machine has a slot, a hole, a notch for example. Which allows you to keep the selection files in convert. We therefore have depending on the selection of other selection (other step) until we arrive at something generic enough to implement rules or rules precise, for example when we know the type of machine, we can call the machine dimensions rules, or when we know the type of slot, we can call the slot conversion rule. Then we arrive at the rules, during this journey the corresponding rules are added in a precise order in a rules_list. At the end of the selection initiated by the selection_machine_rules function we find ourselves with a list of rules. At this moment depending on the direction of conversion, we will call convert_to_P() or convert_to_other(), therefore to convert all the rules and add them to the machine object or the dictionary. This discussion uses polymorphism because in fact, there are 3 types of rules:\n",
    "RuleSimple that allows you to move from one parameter to another with only a multiplier\n",
    "RuleEquation which allows you to pass from one parameter to another but involving other parameters or complex conversions\n",
    "RuleComplex which deals with other situations, these situations are treated in specific functions.\n",
    "\n",
    "We therefore finally have all the rules which are processed and implemented in the machine object or in a dictionary and the conversion is completed."
   ]
  },
  {
   "cell_type": "code",
   "execution_count": 2,
   "id": "c7aeaf85-1f6e-440c-bbcf-32e2b4ea322e",
   "metadata": {},
   "outputs": [
    {
     "ename": "FileNotFoundError",
     "evalue": "No such file or directory: '/Users\\LAP17\\Picture/Architecture_1.png'",
     "output_type": "error",
     "traceback": [
      "\u001b[1;31m---------------------------------------------------------------------------\u001b[0m",
      "\u001b[1;31mTypeError\u001b[0m                                 Traceback (most recent call last)",
      "File \u001b[1;32m~\\AppData\\Roaming\\Python\\Python38\\site-packages\\IPython\\core\\display.py:1045\u001b[0m, in \u001b[0;36mImage._data_and_metadata\u001b[1;34m(self, always_both)\u001b[0m\n\u001b[0;32m   1044\u001b[0m \u001b[39mtry\u001b[39;00m:\n\u001b[1;32m-> 1045\u001b[0m     b64_data \u001b[39m=\u001b[39m b2a_base64(\u001b[39mself\u001b[39;49m\u001b[39m.\u001b[39;49mdata, newline\u001b[39m=\u001b[39;49m\u001b[39mFalse\u001b[39;49;00m)\u001b[39m.\u001b[39mdecode(\u001b[39m\"\u001b[39m\u001b[39mascii\u001b[39m\u001b[39m\"\u001b[39m)\n\u001b[0;32m   1046\u001b[0m \u001b[39mexcept\u001b[39;00m \u001b[39mTypeError\u001b[39;00m \u001b[39mas\u001b[39;00m e:\n",
      "\u001b[1;31mTypeError\u001b[0m: a bytes-like object is required, not 'str'",
      "\nThe above exception was the direct cause of the following exception:\n",
      "\u001b[1;31mFileNotFoundError\u001b[0m                         Traceback (most recent call last)",
      "File \u001b[1;32m~\\AppData\\Roaming\\Python\\Python38\\site-packages\\IPython\\core\\formatters.py:974\u001b[0m, in \u001b[0;36mMimeBundleFormatter.__call__\u001b[1;34m(self, obj, include, exclude)\u001b[0m\n\u001b[0;32m    971\u001b[0m     method \u001b[39m=\u001b[39m get_real_method(obj, \u001b[39mself\u001b[39m\u001b[39m.\u001b[39mprint_method)\n\u001b[0;32m    973\u001b[0m     \u001b[39mif\u001b[39;00m method \u001b[39mis\u001b[39;00m \u001b[39mnot\u001b[39;00m \u001b[39mNone\u001b[39;00m:\n\u001b[1;32m--> 974\u001b[0m         \u001b[39mreturn\u001b[39;00m method(include\u001b[39m=\u001b[39;49minclude, exclude\u001b[39m=\u001b[39;49mexclude)\n\u001b[0;32m    975\u001b[0m     \u001b[39mreturn\u001b[39;00m \u001b[39mNone\u001b[39;00m\n\u001b[0;32m    976\u001b[0m \u001b[39melse\u001b[39;00m:\n",
      "File \u001b[1;32m~\\AppData\\Roaming\\Python\\Python38\\site-packages\\IPython\\core\\display.py:1035\u001b[0m, in \u001b[0;36mImage._repr_mimebundle_\u001b[1;34m(self, include, exclude)\u001b[0m\n\u001b[0;32m   1033\u001b[0m \u001b[39mif\u001b[39;00m \u001b[39mself\u001b[39m\u001b[39m.\u001b[39membed:\n\u001b[0;32m   1034\u001b[0m     mimetype \u001b[39m=\u001b[39m \u001b[39mself\u001b[39m\u001b[39m.\u001b[39m_mimetype\n\u001b[1;32m-> 1035\u001b[0m     data, metadata \u001b[39m=\u001b[39m \u001b[39mself\u001b[39;49m\u001b[39m.\u001b[39;49m_data_and_metadata(always_both\u001b[39m=\u001b[39;49m\u001b[39mTrue\u001b[39;49;00m)\n\u001b[0;32m   1036\u001b[0m     \u001b[39mif\u001b[39;00m metadata:\n\u001b[0;32m   1037\u001b[0m         metadata \u001b[39m=\u001b[39m {mimetype: metadata}\n",
      "File \u001b[1;32m~\\AppData\\Roaming\\Python\\Python38\\site-packages\\IPython\\core\\display.py:1047\u001b[0m, in \u001b[0;36mImage._data_and_metadata\u001b[1;34m(self, always_both)\u001b[0m\n\u001b[0;32m   1045\u001b[0m     b64_data \u001b[39m=\u001b[39m b2a_base64(\u001b[39mself\u001b[39m\u001b[39m.\u001b[39mdata, newline\u001b[39m=\u001b[39m\u001b[39mFalse\u001b[39;00m)\u001b[39m.\u001b[39mdecode(\u001b[39m\"\u001b[39m\u001b[39mascii\u001b[39m\u001b[39m\"\u001b[39m)\n\u001b[0;32m   1046\u001b[0m \u001b[39mexcept\u001b[39;00m \u001b[39mTypeError\u001b[39;00m \u001b[39mas\u001b[39;00m e:\n\u001b[1;32m-> 1047\u001b[0m     \u001b[39mraise\u001b[39;00m \u001b[39mFileNotFoundError\u001b[39;00m(\n\u001b[0;32m   1048\u001b[0m         \u001b[39m\"\u001b[39m\u001b[39mNo such file or directory: \u001b[39m\u001b[39m'\u001b[39m\u001b[39m%s\u001b[39;00m\u001b[39m'\u001b[39m\u001b[39m\"\u001b[39m \u001b[39m%\u001b[39m (\u001b[39mself\u001b[39m\u001b[39m.\u001b[39mdata)) \u001b[39mfrom\u001b[39;00m \u001b[39me\u001b[39;00m\n\u001b[0;32m   1049\u001b[0m md \u001b[39m=\u001b[39m {}\n\u001b[0;32m   1050\u001b[0m \u001b[39mif\u001b[39;00m \u001b[39mself\u001b[39m\u001b[39m.\u001b[39mmetadata:\n",
      "\u001b[1;31mFileNotFoundError\u001b[0m: No such file or directory: '/Users\\LAP17\\Picture/Architecture_1.png'"
     ]
    },
    {
     "ename": "FileNotFoundError",
     "evalue": "No such file or directory: '/Users\\LAP17\\Picture/Architecture_1.png'",
     "output_type": "error",
     "traceback": [
      "\u001b[1;31m---------------------------------------------------------------------------\u001b[0m",
      "\u001b[1;31mTypeError\u001b[0m                                 Traceback (most recent call last)",
      "File \u001b[1;32m~\\AppData\\Roaming\\Python\\Python38\\site-packages\\IPython\\core\\display.py:1045\u001b[0m, in \u001b[0;36mImage._data_and_metadata\u001b[1;34m(self, always_both)\u001b[0m\n\u001b[0;32m   1044\u001b[0m \u001b[39mtry\u001b[39;00m:\n\u001b[1;32m-> 1045\u001b[0m     b64_data \u001b[39m=\u001b[39m b2a_base64(\u001b[39mself\u001b[39;49m\u001b[39m.\u001b[39;49mdata, newline\u001b[39m=\u001b[39;49m\u001b[39mFalse\u001b[39;49;00m)\u001b[39m.\u001b[39mdecode(\u001b[39m\"\u001b[39m\u001b[39mascii\u001b[39m\u001b[39m\"\u001b[39m)\n\u001b[0;32m   1046\u001b[0m \u001b[39mexcept\u001b[39;00m \u001b[39mTypeError\u001b[39;00m \u001b[39mas\u001b[39;00m e:\n",
      "\u001b[1;31mTypeError\u001b[0m: a bytes-like object is required, not 'str'",
      "\nThe above exception was the direct cause of the following exception:\n",
      "\u001b[1;31mFileNotFoundError\u001b[0m                         Traceback (most recent call last)",
      "File \u001b[1;32m~\\AppData\\Roaming\\Python\\Python38\\site-packages\\IPython\\core\\formatters.py:344\u001b[0m, in \u001b[0;36mBaseFormatter.__call__\u001b[1;34m(self, obj)\u001b[0m\n\u001b[0;32m    342\u001b[0m     method \u001b[39m=\u001b[39m get_real_method(obj, \u001b[39mself\u001b[39m\u001b[39m.\u001b[39mprint_method)\n\u001b[0;32m    343\u001b[0m     \u001b[39mif\u001b[39;00m method \u001b[39mis\u001b[39;00m \u001b[39mnot\u001b[39;00m \u001b[39mNone\u001b[39;00m:\n\u001b[1;32m--> 344\u001b[0m         \u001b[39mreturn\u001b[39;00m method()\n\u001b[0;32m    345\u001b[0m     \u001b[39mreturn\u001b[39;00m \u001b[39mNone\u001b[39;00m\n\u001b[0;32m    346\u001b[0m \u001b[39melse\u001b[39;00m:\n",
      "File \u001b[1;32m~\\AppData\\Roaming\\Python\\Python38\\site-packages\\IPython\\core\\display.py:1067\u001b[0m, in \u001b[0;36mImage._repr_png_\u001b[1;34m(self)\u001b[0m\n\u001b[0;32m   1065\u001b[0m \u001b[39mdef\u001b[39;00m \u001b[39m_repr_png_\u001b[39m(\u001b[39mself\u001b[39m):\n\u001b[0;32m   1066\u001b[0m     \u001b[39mif\u001b[39;00m \u001b[39mself\u001b[39m\u001b[39m.\u001b[39membed \u001b[39mand\u001b[39;00m \u001b[39mself\u001b[39m\u001b[39m.\u001b[39mformat \u001b[39m==\u001b[39m \u001b[39mself\u001b[39m\u001b[39m.\u001b[39m_FMT_PNG:\n\u001b[1;32m-> 1067\u001b[0m         \u001b[39mreturn\u001b[39;00m \u001b[39mself\u001b[39;49m\u001b[39m.\u001b[39;49m_data_and_metadata()\n",
      "File \u001b[1;32m~\\AppData\\Roaming\\Python\\Python38\\site-packages\\IPython\\core\\display.py:1047\u001b[0m, in \u001b[0;36mImage._data_and_metadata\u001b[1;34m(self, always_both)\u001b[0m\n\u001b[0;32m   1045\u001b[0m     b64_data \u001b[39m=\u001b[39m b2a_base64(\u001b[39mself\u001b[39m\u001b[39m.\u001b[39mdata, newline\u001b[39m=\u001b[39m\u001b[39mFalse\u001b[39;00m)\u001b[39m.\u001b[39mdecode(\u001b[39m\"\u001b[39m\u001b[39mascii\u001b[39m\u001b[39m\"\u001b[39m)\n\u001b[0;32m   1046\u001b[0m \u001b[39mexcept\u001b[39;00m \u001b[39mTypeError\u001b[39;00m \u001b[39mas\u001b[39;00m e:\n\u001b[1;32m-> 1047\u001b[0m     \u001b[39mraise\u001b[39;00m \u001b[39mFileNotFoundError\u001b[39;00m(\n\u001b[0;32m   1048\u001b[0m         \u001b[39m\"\u001b[39m\u001b[39mNo such file or directory: \u001b[39m\u001b[39m'\u001b[39m\u001b[39m%s\u001b[39;00m\u001b[39m'\u001b[39m\u001b[39m\"\u001b[39m \u001b[39m%\u001b[39m (\u001b[39mself\u001b[39m\u001b[39m.\u001b[39mdata)) \u001b[39mfrom\u001b[39;00m \u001b[39me\u001b[39;00m\n\u001b[0;32m   1049\u001b[0m md \u001b[39m=\u001b[39m {}\n\u001b[0;32m   1050\u001b[0m \u001b[39mif\u001b[39;00m \u001b[39mself\u001b[39m\u001b[39m.\u001b[39mmetadata:\n",
      "\u001b[1;31mFileNotFoundError\u001b[0m: No such file or directory: '/Users\\LAP17\\Picture/Architecture_1.png'"
     ]
    },
    {
     "data": {
      "text/plain": [
       "<IPython.core.display.Image object>"
      ]
     },
     "execution_count": 2,
     "metadata": {},
     "output_type": "execute_result"
    }
   ],
   "source": [
    "from IPython import display\n",
    "display.Image(\"/Users\\LAP17\\Picture/Architecture_1.png\")\n"
   ]
  },
  {
   "cell_type": "code",
   "execution_count": null,
   "id": "740a65c6-d326-4bb7-a359-d718fe04a49b",
   "metadata": {},
   "outputs": [],
   "source": [
    "from IPython import display\n",
    "display.Image(\"/Users\\LAP17\\Picture/Architecture_2.png\")\n"
   ]
  }
 ],
 "metadata": {
  "kernelspec": {
   "display_name": "Python 3 (ipykernel)",
   "language": "python",
   "name": "python3"
  },
  "language_info": {
   "codemirror_mode": {
    "name": "ipython",
    "version": 3
   },
   "file_extension": ".py",
   "mimetype": "text/x-python",
   "name": "python",
   "nbconvert_exporter": "python",
   "pygments_lexer": "ipython3",
   "version": "3.8.10"
  }
 },
 "nbformat": 4,
 "nbformat_minor": 5
}
